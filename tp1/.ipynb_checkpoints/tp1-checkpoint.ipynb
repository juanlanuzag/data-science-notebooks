{
 "cells": [
  {
   "cell_type": "markdown",
   "metadata": {
    "deletable": true,
    "editable": true
   },
   "source": [
    "# TP 1 Ciencia de datos\n",
    "---------------"
   ]
  },
  {
   "cell_type": "markdown",
   "metadata": {
    "deletable": true,
    "editable": true
   },
   "source": [
    "## Exploración Preliminar y Gráficos"
   ]
  },
  {
   "cell_type": "code",
   "execution_count": 50,
   "metadata": {
    "collapsed": false,
    "deletable": true,
    "editable": true
   },
   "outputs": [],
   "source": [
    "%matplotlib inline\n",
    "\n",
    "import numpy as np\n",
    "import pandas as pd\n",
    "import matplotlib.pyplot as plt\n",
    "import seaborn as sns\n",
    "from matplotlib.font_manager import FontProperties\n",
    "from random import randint\n",
    "from scipy.stats import shapiro, ttest_rel, ttest_ind, pearsonr, bartlett, wilcoxon"
   ]
  },
  {
   "cell_type": "code",
   "execution_count": 4,
   "metadata": {
    "collapsed": false,
    "deletable": true,
    "editable": true
   },
   "outputs": [
    {
     "data": {
      "text/html": [
       "<div>\n",
       "<table border=\"1\" class=\"dataframe\">\n",
       "  <thead>\n",
       "    <tr style=\"text-align: right;\">\n",
       "      <th></th>\n",
       "      <th>Atleta</th>\n",
       "      <th>tiempo_sol</th>\n",
       "      <th>tiempo_nublado</th>\n",
       "      <th>tiempo_lluvia</th>\n",
       "    </tr>\n",
       "  </thead>\n",
       "  <tbody>\n",
       "    <tr>\n",
       "      <th>0</th>\n",
       "      <td>1</td>\n",
       "      <td>11.1</td>\n",
       "      <td>11.3</td>\n",
       "      <td>19.4</td>\n",
       "    </tr>\n",
       "    <tr>\n",
       "      <th>1</th>\n",
       "      <td>2</td>\n",
       "      <td>13.0</td>\n",
       "      <td>12.8</td>\n",
       "      <td>18.2</td>\n",
       "    </tr>\n",
       "    <tr>\n",
       "      <th>2</th>\n",
       "      <td>3</td>\n",
       "      <td>16.1</td>\n",
       "      <td>16.0</td>\n",
       "      <td>19.0</td>\n",
       "    </tr>\n",
       "    <tr>\n",
       "      <th>3</th>\n",
       "      <td>4</td>\n",
       "      <td>14.5</td>\n",
       "      <td>14.1</td>\n",
       "      <td>18.9</td>\n",
       "    </tr>\n",
       "    <tr>\n",
       "      <th>4</th>\n",
       "      <td>5</td>\n",
       "      <td>12.0</td>\n",
       "      <td>12.5</td>\n",
       "      <td>19.1</td>\n",
       "    </tr>\n",
       "    <tr>\n",
       "      <th>5</th>\n",
       "      <td>6</td>\n",
       "      <td>11.0</td>\n",
       "      <td>11.6</td>\n",
       "      <td>18.7</td>\n",
       "    </tr>\n",
       "    <tr>\n",
       "      <th>6</th>\n",
       "      <td>7</td>\n",
       "      <td>15.1</td>\n",
       "      <td>14.6</td>\n",
       "      <td>189.0</td>\n",
       "    </tr>\n",
       "    <tr>\n",
       "      <th>7</th>\n",
       "      <td>8</td>\n",
       "      <td>14.4</td>\n",
       "      <td>14.2</td>\n",
       "      <td>19.9</td>\n",
       "    </tr>\n",
       "    <tr>\n",
       "      <th>8</th>\n",
       "      <td>9</td>\n",
       "      <td>16.1</td>\n",
       "      <td>16.1</td>\n",
       "      <td>18.5</td>\n",
       "    </tr>\n",
       "    <tr>\n",
       "      <th>9</th>\n",
       "      <td>10</td>\n",
       "      <td>17.0</td>\n",
       "      <td>16.7</td>\n",
       "      <td>19.2</td>\n",
       "    </tr>\n",
       "    <tr>\n",
       "      <th>10</th>\n",
       "      <td>11</td>\n",
       "      <td>12.2</td>\n",
       "      <td>12.4</td>\n",
       "      <td>18.8</td>\n",
       "    </tr>\n",
       "    <tr>\n",
       "      <th>11</th>\n",
       "      <td>12</td>\n",
       "      <td>14.4</td>\n",
       "      <td>14.1</td>\n",
       "      <td>19.2</td>\n",
       "    </tr>\n",
       "  </tbody>\n",
       "</table>\n",
       "</div>"
      ],
      "text/plain": [
       "    Atleta  tiempo_sol  tiempo_nublado  tiempo_lluvia\n",
       "0        1        11.1            11.3           19.4\n",
       "1        2        13.0            12.8           18.2\n",
       "2        3        16.1            16.0           19.0\n",
       "3        4        14.5            14.1           18.9\n",
       "4        5        12.0            12.5           19.1\n",
       "5        6        11.0            11.6           18.7\n",
       "6        7        15.1            14.6          189.0\n",
       "7        8        14.4            14.2           19.9\n",
       "8        9        16.1            16.1           18.5\n",
       "9       10        17.0            16.7           19.2\n",
       "10      11        12.2            12.4           18.8\n",
       "11      12        14.4            14.1           19.2"
      ]
     },
     "execution_count": 4,
     "metadata": {},
     "output_type": "execute_result"
    }
   ],
   "source": [
    "data = pd.read_csv('tiempos.txt', delim_whitespace=True)\n",
    "data"
   ]
  },
  {
   "cell_type": "code",
   "execution_count": 5,
   "metadata": {
    "collapsed": false,
    "deletable": true,
    "editable": true,
    "scrolled": true
   },
   "outputs": [
    {
     "name": "stderr",
     "output_type": "stream",
     "text": [
      "/usr/lib/python3/dist-packages/matplotlib/figure.py:397: UserWarning: matplotlib is currently using a non-GUI backend, so cannot show the figure\n",
      "  \"matplotlib is currently using a non-GUI backend, \"\n"
     ]
    },
    {
     "data": {
      "image/png": "[encoded data removed]",
      "text/plain": [
       "<matplotlib.figure.Figure at 0x7f1213622278>"
      ]
     },
     "metadata": {},
     "output_type": "display_data"
    }
   ],
   "source": [
    "figure1 = plt.figure()\n",
    "\n",
    "plot1 = plt.plot(data[\"Atleta\"], data[\"tiempo_sol\"], 'o', label=\"Soleado\")\n",
    "plot2 = plt.plot(data[\"Atleta\"], data[\"tiempo_nublado\"], 'o', label=\"Nublado\")\n",
    "plot3 = plt.plot(data[\"Atleta\"], data[\"tiempo_lluvia\"], 'o', label=\"Lluvia\")\n",
    "\n",
    "plt.xlabel(\"Atleta\", fontsize=16)\n",
    "plt.ylabel(\"Tiempo\", fontsize=16)\n",
    "\n",
    "plt.xlim(0, 13)\n",
    "plt.ylim(0, 22)\n",
    "\n",
    "plt.legend(bbox_to_anchor=(1.05, 1), loc=2, borderaxespad=0.)\n",
    "\n",
    "figure1.show()\n"
   ]
  },
  {
   "cell_type": "code",
   "execution_count": 6,
   "metadata": {
    "collapsed": true,
    "deletable": true,
    "editable": true
   },
   "outputs": [],
   "source": [
    "data.drop(6, inplace=True)"
   ]
  },
  {
   "cell_type": "markdown",
   "metadata": {
    "deletable": true,
    "editable": true
   },
   "source": [
    "Hay un único outlier que claramente es un error de medición y dificulta el estudio del resto de los datos. Para que todo atleta tenga sus tiempos medidos tanto con lluvia como para los días de sol y nublados, borramos todas las mediciones del atleta con el outlier. "
   ]
  },
  {
   "cell_type": "code",
   "execution_count": 7,
   "metadata": {
    "collapsed": false,
    "deletable": true,
    "editable": true,
    "scrolled": true
   },
   "outputs": [
    {
     "name": "stderr",
     "output_type": "stream",
     "text": [
      "/usr/lib/python3/dist-packages/matplotlib/figure.py:397: UserWarning: matplotlib is currently using a non-GUI backend, so cannot show the figure\n",
      "  \"matplotlib is currently using a non-GUI backend, \"\n"
     ]
    },
    {
     "data": {
      "image/png": "[encoded data removed]",
      "text/plain": [
       "<matplotlib.figure.Figure at 0x7f12135da3c8>"
      ]
     },
     "metadata": {},
     "output_type": "display_data"
    }
   ],
   "source": [
    "fontP = FontProperties()\n",
    "figure1 = plt.figure()\n",
    "\n",
    "plot1 = plt.plot(data[\"Atleta\"], data[\"tiempo_sol\"],'o', label=\"Soleado\")\n",
    "plot2 = plt.plot(data[\"Atleta\"], data[\"tiempo_nublado\"],'o', label=\"Nublado\")\n",
    "plot3 = plt.plot(data[\"Atleta\"], data[\"tiempo_lluvia\"],'o', label=\"LLuvia\")\n",
    "\n",
    "\n",
    "plt.ylabel(\"Tiempo\", fontsize=16)\n",
    "plt.xlabel(\"Atleta\", fontsize=16)\n",
    "\n",
    "plt.xlim(0, 13)\n",
    "plt.ylim(0, 22)\n",
    "\n",
    "plt.legend(bbox_to_anchor=(1.05, 1), loc=2, borderaxespad=0.)\n",
    "\n",
    "figure1.show()"
   ]
  },
  {
   "cell_type": "markdown",
   "metadata": {
    "deletable": true,
    "editable": true
   },
   "source": [
    "# Tests\n",
    "\n",
    "### Algunas cosas que queremos responder:\n",
    "\n",
    "* Los atletas son más lentos en días de lluvia que en días soleados.\n",
    "* El cielo nublado no influye en los tiempos de los atletas.\n",
    "* La velocidad en días de lluvia es independiente del atleta.\n",
    "* El clima influye en la velocidad de los atletas\n",
    "\n",
    "### Primer test:\n",
    "\n",
    "Vamos a hacer un test de permutaciones entre los tiempos de los días de sol y los de los días de lluvia. Tenemos como hipótesis nula H0 que el tiempo en días de lluvia es menor o igual al tiempo en días soleados.\n",
    "\n",
    "Para no perder la individualidad de cada atleta, nuestras permutaciones son entre los tiempos de cada uno\n",
    ".\n",
    "\n",
    "Por ejemplo:"
   ]
  },
  {
   "cell_type": "code",
   "execution_count": 8,
   "metadata": {
    "collapsed": false,
    "deletable": true,
    "editable": true
   },
   "outputs": [
    {
     "name": "stdout",
     "output_type": "stream",
     "text": [
      "Original\n"
     ]
    },
    {
     "data": {
      "text/html": [
       "<div>\n",
       "<table border=\"1\" class=\"dataframe\">\n",
       "  <thead>\n",
       "    <tr style=\"text-align: right;\">\n",
       "      <th></th>\n",
       "      <th>Atleta</th>\n",
       "      <th>tiempo_sol</th>\n",
       "      <th>tiempo_lluvia</th>\n",
       "    </tr>\n",
       "  </thead>\n",
       "  <tbody>\n",
       "    <tr>\n",
       "      <th>0</th>\n",
       "      <td>1</td>\n",
       "      <td>11.1</td>\n",
       "      <td>19.4</td>\n",
       "    </tr>\n",
       "    <tr>\n",
       "      <th>1</th>\n",
       "      <td>2</td>\n",
       "      <td>13.0</td>\n",
       "      <td>18.2</td>\n",
       "    </tr>\n",
       "    <tr>\n",
       "      <th>2</th>\n",
       "      <td>3</td>\n",
       "      <td>16.1</td>\n",
       "      <td>19.0</td>\n",
       "    </tr>\n",
       "    <tr>\n",
       "      <th>3</th>\n",
       "      <td>4</td>\n",
       "      <td>14.5</td>\n",
       "      <td>18.9</td>\n",
       "    </tr>\n",
       "    <tr>\n",
       "      <th>4</th>\n",
       "      <td>5</td>\n",
       "      <td>12.0</td>\n",
       "      <td>19.1</td>\n",
       "    </tr>\n",
       "    <tr>\n",
       "      <th>5</th>\n",
       "      <td>6</td>\n",
       "      <td>11.0</td>\n",
       "      <td>18.7</td>\n",
       "    </tr>\n",
       "    <tr>\n",
       "      <th>7</th>\n",
       "      <td>8</td>\n",
       "      <td>14.4</td>\n",
       "      <td>19.9</td>\n",
       "    </tr>\n",
       "    <tr>\n",
       "      <th>8</th>\n",
       "      <td>9</td>\n",
       "      <td>16.1</td>\n",
       "      <td>18.5</td>\n",
       "    </tr>\n",
       "    <tr>\n",
       "      <th>9</th>\n",
       "      <td>10</td>\n",
       "      <td>17.0</td>\n",
       "      <td>19.2</td>\n",
       "    </tr>\n",
       "    <tr>\n",
       "      <th>10</th>\n",
       "      <td>11</td>\n",
       "      <td>12.2</td>\n",
       "      <td>18.8</td>\n",
       "    </tr>\n",
       "    <tr>\n",
       "      <th>11</th>\n",
       "      <td>12</td>\n",
       "      <td>14.4</td>\n",
       "      <td>19.2</td>\n",
       "    </tr>\n",
       "  </tbody>\n",
       "</table>\n",
       "</div>"
      ],
      "text/plain": [
       "    Atleta  tiempo_sol  tiempo_lluvia\n",
       "0        1        11.1           19.4\n",
       "1        2        13.0           18.2\n",
       "2        3        16.1           19.0\n",
       "3        4        14.5           18.9\n",
       "4        5        12.0           19.1\n",
       "5        6        11.0           18.7\n",
       "7        8        14.4           19.9\n",
       "8        9        16.1           18.5\n",
       "9       10        17.0           19.2\n",
       "10      11        12.2           18.8\n",
       "11      12        14.4           19.2"
      ]
     },
     "metadata": {},
     "output_type": "display_data"
    },
    {
     "name": "stdout",
     "output_type": "stream",
     "text": [
      "Permutacion\n"
     ]
    },
    {
     "name": "stderr",
     "output_type": "stream",
     "text": [
      "/usr/local/lib/python3.5/dist-packages/ipykernel/__main__.py:11: SettingWithCopyWarning: \n",
      "A value is trying to be set on a copy of a slice from a DataFrame\n",
      "\n",
      "See the caveats in the documentation: http://pandas.pydata.org/pandas-docs/stable/indexing.html#indexing-view-versus-copy\n",
      "/usr/local/lib/python3.5/dist-packages/ipykernel/__main__.py:12: SettingWithCopyWarning: \n",
      "A value is trying to be set on a copy of a slice from a DataFrame\n",
      "\n",
      "See the caveats in the documentation: http://pandas.pydata.org/pandas-docs/stable/indexing.html#indexing-view-versus-copy\n",
      "/usr/local/lib/python3.5/dist-packages/ipykernel/__main__.py:13: SettingWithCopyWarning: \n",
      "A value is trying to be set on a copy of a slice from a DataFrame\n",
      "\n",
      "See the caveats in the documentation: http://pandas.pydata.org/pandas-docs/stable/indexing.html#indexing-view-versus-copy\n",
      "/usr/local/lib/python3.5/dist-packages/ipykernel/__main__.py:14: SettingWithCopyWarning: \n",
      "A value is trying to be set on a copy of a slice from a DataFrame\n",
      "\n",
      "See the caveats in the documentation: http://pandas.pydata.org/pandas-docs/stable/indexing.html#indexing-view-versus-copy\n",
      "/usr/local/lib/python3.5/dist-packages/ipykernel/__main__.py:15: SettingWithCopyWarning: \n",
      "A value is trying to be set on a copy of a slice from a DataFrame\n",
      "\n",
      "See the caveats in the documentation: http://pandas.pydata.org/pandas-docs/stable/indexing.html#indexing-view-versus-copy\n"
     ]
    },
    {
     "data": {
      "text/html": [
       "<div>\n",
       "<table border=\"1\" class=\"dataframe\">\n",
       "  <thead>\n",
       "    <tr style=\"text-align: right;\">\n",
       "      <th></th>\n",
       "      <th>Atleta</th>\n",
       "      <th>tiempo_sol</th>\n",
       "      <th>tiempo_lluvia</th>\n",
       "    </tr>\n",
       "  </thead>\n",
       "  <tbody>\n",
       "    <tr>\n",
       "      <th>0</th>\n",
       "      <td>1</td>\n",
       "      <td>11.1</td>\n",
       "      <td>19.4</td>\n",
       "    </tr>\n",
       "    <tr>\n",
       "      <th>1</th>\n",
       "      <td>2</td>\n",
       "      <td>13.0</td>\n",
       "      <td>18.2</td>\n",
       "    </tr>\n",
       "    <tr>\n",
       "      <th>2</th>\n",
       "      <td>3</td>\n",
       "      <td>19.0</td>\n",
       "      <td>16.1</td>\n",
       "    </tr>\n",
       "    <tr>\n",
       "      <th>3</th>\n",
       "      <td>4</td>\n",
       "      <td>14.5</td>\n",
       "      <td>18.9</td>\n",
       "    </tr>\n",
       "    <tr>\n",
       "      <th>4</th>\n",
       "      <td>5</td>\n",
       "      <td>19.1</td>\n",
       "      <td>12.0</td>\n",
       "    </tr>\n",
       "    <tr>\n",
       "      <th>5</th>\n",
       "      <td>6</td>\n",
       "      <td>11.0</td>\n",
       "      <td>18.7</td>\n",
       "    </tr>\n",
       "    <tr>\n",
       "      <th>7</th>\n",
       "      <td>8</td>\n",
       "      <td>19.9</td>\n",
       "      <td>14.4</td>\n",
       "    </tr>\n",
       "    <tr>\n",
       "      <th>8</th>\n",
       "      <td>9</td>\n",
       "      <td>18.5</td>\n",
       "      <td>16.1</td>\n",
       "    </tr>\n",
       "    <tr>\n",
       "      <th>9</th>\n",
       "      <td>10</td>\n",
       "      <td>17.0</td>\n",
       "      <td>19.2</td>\n",
       "    </tr>\n",
       "    <tr>\n",
       "      <th>10</th>\n",
       "      <td>11</td>\n",
       "      <td>12.2</td>\n",
       "      <td>18.8</td>\n",
       "    </tr>\n",
       "    <tr>\n",
       "      <th>11</th>\n",
       "      <td>12</td>\n",
       "      <td>19.2</td>\n",
       "      <td>14.4</td>\n",
       "    </tr>\n",
       "  </tbody>\n",
       "</table>\n",
       "</div>"
      ],
      "text/plain": [
       "    Atleta  tiempo_sol  tiempo_lluvia\n",
       "0        1        11.1           19.4\n",
       "1        2        13.0           18.2\n",
       "2        3        19.0           16.1\n",
       "3        4        14.5           18.9\n",
       "4        5        19.1           12.0\n",
       "5        6        11.0           18.7\n",
       "7        8        19.9           14.4\n",
       "8        9        18.5           16.1\n",
       "9       10        17.0           19.2\n",
       "10      11        12.2           18.8\n",
       "11      12        19.2           14.4"
      ]
     },
     "metadata": {},
     "output_type": "display_data"
    }
   ],
   "source": [
    "from IPython.display import display\n",
    "\n",
    "\n",
    "print (\"Original\")\n",
    "display(data[[\"Atleta\", \"tiempo_sol\", \"tiempo_lluvia\"]])\n",
    "\n",
    "print (\"Permutacion\")\n",
    "\n",
    "data_copy = data.copy()\n",
    "\n",
    "data_copy[\"tiempo_sol\"][2], data_copy[\"tiempo_lluvia\"][2] = data_copy[\"tiempo_lluvia\"][2], data_copy[\"tiempo_sol\"][2]\n",
    "data_copy[\"tiempo_sol\"][4], data_copy[\"tiempo_lluvia\"][4] = data_copy[\"tiempo_lluvia\"][4], data_copy[\"tiempo_sol\"][4]\n",
    "data_copy[\"tiempo_sol\"][7], data_copy[\"tiempo_lluvia\"][7] = data_copy[\"tiempo_lluvia\"][7], data_copy[\"tiempo_sol\"][7]\n",
    "data_copy[\"tiempo_sol\"][8], data_copy[\"tiempo_lluvia\"][8] = data_copy[\"tiempo_lluvia\"][8], data_copy[\"tiempo_sol\"][8]\n",
    "data_copy[\"tiempo_sol\"][11], data_copy[\"tiempo_lluvia\"][11] = data_copy[\"tiempo_lluvia\"][11], data_copy[\"tiempo_sol\"][11]\n",
    "\n",
    "\n",
    "display(data_copy[[\"Atleta\", \"tiempo_sol\", \"tiempo_lluvia\"]])\n"
   ]
  },
  {
   "cell_type": "code",
   "execution_count": 34,
   "metadata": {
    "collapsed": false,
    "deletable": true,
    "editable": true
   },
   "outputs": [],
   "source": [
    "permutations = []\n",
    "\n",
    "for i in range(2**len(data[\"tiempo_lluvia\"])):\n",
    "    mean_lluvia = 0.0\n",
    "    mean_soleado = 0.0   \n",
    "    for j in range(len(data[\"tiempo_lluvia\"])+1):\n",
    "        if j != 6:\n",
    "            if randint(0,1):\n",
    "                mean_lluvia += data[\"tiempo_sol\"][j]\n",
    "                mean_soleado += data[\"tiempo_lluvia\"][j]\n",
    "            else:\n",
    "                mean_soleado += data[\"tiempo_sol\"][j]\n",
    "                mean_lluvia += data[\"tiempo_lluvia\"][j]\n",
    "    mean_soleado /= len(data[\"tiempo_lluvia\"])\n",
    "    mean_lluvia /= len(data[\"tiempo_lluvia\"])\n",
    "    permutations.append(mean_lluvia - mean_soleado)"
   ]
  },
  {
   "cell_type": "code",
   "execution_count": 35,
   "metadata": {
    "collapsed": false,
    "deletable": true,
    "editable": true
   },
   "outputs": [
    {
     "name": "stdout",
     "output_type": "stream",
     "text": [
      "Nuestra diferencia de medias  5.19090909091\n",
      "Cant mayor  2.0\n",
      "Cant menor  2046.0\n",
      "Proporción mayor 0.0009765625\n"
     ]
    },
    {
     "data": {
      "image/png": "[encoded data removed]",
      "text/plain": [
       "<matplotlib.figure.Figure at 0x7f120fb12860>"
      ]
     },
     "metadata": {},
     "output_type": "display_data"
    }
   ],
   "source": [
    "#Separe esto para poder plotear sin que se randomicen los datos de nuevo.\n",
    "diff = data[\"tiempo_lluvia\"].mean() - data[\"tiempo_sol\"].mean()\n",
    "print (\"Nuestra diferencia de medias \", diff)\n",
    "\n",
    "plt.xlabel(\"Diferencia de promedios\", fontsize=16)\n",
    "plt.hist(permutations,15)\n",
    "cant_mayor = 0.0\n",
    "cant_menor = 0.0\n",
    "for permutation in permutations:\n",
    "    if permutation >= diff:\n",
    "        cant_mayor += 1\n",
    "    else:\n",
    "        cant_menor += 1\n",
    "print (\"Cant mayor \", cant_mayor)\n",
    "print (\"Cant menor \", cant_menor)\n",
    "print (\"Proporción mayor\", cant_mayor/(cant_menor + cant_mayor))"
   ]
  },
  {
   "cell_type": "markdown",
   "metadata": {
    "deletable": true,
    "editable": true
   },
   "source": [
    "Rechazamos la hipotesis nula porque el p-valor << 0.05, asi que podemos afirmar que el tiempo de dia soleado es menor que el de dia lluvioso."
   ]
  },
  {
   "cell_type": "markdown",
   "metadata": {
    "deletable": true,
    "editable": true
   },
   "source": [
    "# Segundo test:\n",
    "\n",
    "Hacemos un t-test de muestras apareadas entre tiempo nublado y lluvioso. Para usar el t-test veamos primero que las variables estan normalmente distribuidas, tienen igual varianza y son independientes.\n",
    "\n",
    "* Para ver que son normalmente distribuidas usamos el test de Shapiro, que tiene como hipotesis nula que los valores tienen una distribución normal."
   ]
  },
  {
   "cell_type": "code",
   "execution_count": 11,
   "metadata": {
    "collapsed": false,
    "deletable": true,
    "editable": true
   },
   "outputs": [
    {
     "name": "stdout",
     "output_type": "stream",
     "text": [
      "pvalue para dias nublados (shapiro):  0.3774447739124298\n",
      "pvalue para dias lluviosos (shapiro):  0.9883151054382324\n"
     ]
    }
   ],
   "source": [
    "print (\"pvalue para dias nublados (shapiro): \" , shapiro(data[\"tiempo_nublado\"])[1])\n",
    "print (\"pvalue para dias lluviosos (shapiro): \", shapiro(data[\"tiempo_lluvia\"])[1])"
   ]
  },
  {
   "cell_type": "markdown",
   "metadata": {
    "deletable": true,
    "editable": true
   },
   "source": [
    "Dado el elevado p-value no podemos rechazar la hipotesis nula (no podemos decir que no están normalmente distribuidas). Esto nos da una base más sólida para afirmar que sí lo están.\n",
    "\n",
    "* Para ver que tienen la misma varianza usamos el Test de Bartlett (https://docs.scipy.org/doc/scipy-0.14.0/reference/generated/scipy.stats.bartlett.html#scipy.stats.bartlett)"
   ]
  },
  {
   "cell_type": "code",
   "execution_count": 49,
   "metadata": {
    "collapsed": false,
    "deletable": true,
    "editable": true
   },
   "outputs": [
    {
     "name": "stdout",
     "output_type": "stream",
     "text": [
      "pvalue para test de bartlett:  0.000129209884878\n"
     ]
    }
   ],
   "source": [
    "print (\"pvalue para test de bartlett: \" ,bartlett(data[\"tiempo_nublado\"], data[\"tiempo_lluvia\"])[1])"
   ]
  },
  {
   "cell_type": "markdown",
   "metadata": {},
   "source": [
    "El test de bartlett nos indica que las muestras provienen de distribuciones con diferente varianza. Por lo tanto no se cumplen las hipótesis del test de Student y no podemos utilizarlo. Usamos entonces el test no paramétrico de Wilcoxon."
   ]
  },
  {
   "cell_type": "code",
   "execution_count": 52,
   "metadata": {
    "collapsed": false,
    "deletable": true,
    "editable": true
   },
   "outputs": [
    {
     "name": "stdout",
     "output_type": "stream",
     "text": [
      "pvalue para el test de Wilcoxon:  0.00334561811585\n"
     ]
    }
   ],
   "source": [
    "print(\"pvalue para el test de Wilcoxon: \", wilcoxon(data[\"tiempo_nublado\"], data[\"tiempo_lluvia\"])[1])"
   ]
  },
  {
   "cell_type": "markdown",
   "metadata": {},
   "source": [
    "El pvalue del test es lo suficientemente bajo como para afirmar que provienen de distribuciones con diferentes medias, esta afirmación igual pierde un poco de fuerza debido a que los tests no parámetricos como el de Wilcoxon recomiendan tener un número elevado de muestras (por ejemplo la documentación de scipy recomienda tener por lo menos 20 mediciones). \n",
    "\n",
    "Sin embargo la vamos a considerar suficiente como para afirmar que la media del tiempo cuando está nublado es menor que cuando llueve."
   ]
  },
  {
   "cell_type": "markdown",
   "metadata": {
    "deletable": true,
    "editable": true
   },
   "source": [
    "# Tercer test:\n",
    "\n",
    "Lo mismo entre tiempo soleado y nublado\n",
    "        "
   ]
  },
  {
   "cell_type": "code",
   "execution_count": 53,
   "metadata": {
    "collapsed": false,
    "deletable": true,
    "editable": true
   },
   "outputs": [
    {
     "name": "stdout",
     "output_type": "stream",
     "text": [
      "pvalue para dias nublados (shapiro):  0.3774447739124298\n",
      "pvalue para dias soleado (shapiro):  0.42219114303588867\n",
      "pvalue para test de bartlett:  0.722237608767\n"
     ]
    }
   ],
   "source": [
    "print (\"pvalue para dias nublados (shapiro): \" , shapiro(data[\"tiempo_nublado\"])[1])\n",
    "print (\"pvalue para dias soleado (shapiro): \", shapiro(data[\"tiempo_sol\"])[1])\n",
    "\n",
    "print (\"pvalue para test de bartlett: \" ,bartlett(data[\"tiempo_nublado\"], data[\"tiempo_sol\"])[1])"
   ]
  },
  {
   "cell_type": "markdown",
   "metadata": {},
   "source": [
    "En este caso ninguno de los tests nos permitió rechazar las hipótesis del test T de Student, por lo que lo utilizamos para comprobar si el tiempo medio de una carrera difiere cuando esta nublado o soleado."
   ]
  },
  {
   "cell_type": "code",
   "execution_count": 54,
   "metadata": {
    "collapsed": false,
    "deletable": true,
    "editable": true
   },
   "outputs": [
    {
     "name": "stdout",
     "output_type": "stream",
     "text": [
      "pvalue para test de Student:  1.0\n"
     ]
    }
   ],
   "source": [
    "print (\"pvalue para test de Student: \", ttest_rel(data[\"tiempo_nublado\"], data[\"tiempo_sol\"]).pvalue)"
   ]
  },
  {
   "cell_type": "markdown",
   "metadata": {
    "deletable": true,
    "editable": true
   },
   "source": [
    "Con el valor obtenido, no podemos afirmar que haya diferencias significativas en la media de los tiempos para estos climas."
   ]
  },
  {
   "cell_type": "markdown",
   "metadata": {
    "deletable": true,
    "editable": true
   },
   "source": [
    "# Cuarto test:\n",
    "\n",
    "Suponemos que si un corredor es más rápido que otro en los días de sol, también lo es en los días de lluvia. Para ello realizamos un test de correlación de Pearson entre los tiempos de días soleados y días de lluvia."
   ]
  },
  {
   "cell_type": "code",
   "execution_count": 16,
   "metadata": {
    "collapsed": false,
    "deletable": true,
    "editable": true
   },
   "outputs": [
    {
     "name": "stderr",
     "output_type": "stream",
     "text": [
      "/usr/lib/python3/dist-packages/matplotlib/figure.py:397: UserWarning: matplotlib is currently using a non-GUI backend, so cannot show the figure\n",
      "  \"matplotlib is currently using a non-GUI backend, \"\n"
     ]
    },
    {
     "data": {
      "image/png": "[encoded data removed]",
      "text/plain": [
       "<matplotlib.figure.Figure at 0x7f121355db00>"
      ]
     },
     "metadata": {},
     "output_type": "display_data"
    }
   ],
   "source": [
    "from matplotlib.font_manager import FontProperties\n",
    "\n",
    "\n",
    "figure1 = plt.figure()\n",
    "\n",
    "plot3 = plt.plot(data[\"tiempo_sol\"], data[\"tiempo_lluvia\"],'o')\n",
    "\n",
    "plt.xlabel(\"Tiempo sol\", fontsize=16)\n",
    "plt.ylabel(\"Tiempo lluvia\", fontsize=16)\n",
    "\n",
    "plt.xlim(0, 18)\n",
    "plt.ylim(0, 22)\n",
    "\n",
    "figure1.show()\n"
   ]
  },
  {
   "cell_type": "code",
   "execution_count": 17,
   "metadata": {
    "collapsed": false,
    "deletable": true,
    "editable": true
   },
   "outputs": [
    {
     "name": "stdout",
     "output_type": "stream",
     "text": [
      "pvalue del test de pearson:  0.849493580725\n"
     ]
    }
   ],
   "source": [
    "print (\"pvalue del test de pearson: \", pearsonr(data[\"tiempo_sol\"], data[\"tiempo_lluvia\"])[1])"
   ]
  },
  {
   "cell_type": "markdown",
   "metadata": {
    "deletable": true,
    "editable": true
   },
   "source": [
    "Intuitivamente viendo el gráfico no parecería haber correlación evidente entre los datos. Esta intuición se ve reforzada por el valor elevado del pvalue del test de pearson, que no nos permite afirmar la existencia de algùn tipo de correlación."
   ]
  },
  {
   "cell_type": "markdown",
   "metadata": {
    "collapsed": true,
    "deletable": true,
    "editable": true
   },
   "source": [
    "# Quinto test:\n",
    " \n",
    "Queremos ver la correlacion entre los tiempos en dias soleados vs los nublados."
   ]
  },
  {
   "cell_type": "code",
   "execution_count": 18,
   "metadata": {
    "collapsed": false,
    "deletable": true,
    "editable": true
   },
   "outputs": [
    {
     "name": "stdout",
     "output_type": "stream",
     "text": [
      "Rho: 0.992241999795132\n",
      "Pvalue: 1.8469595486418115e-09\n"
     ]
    }
   ],
   "source": [
    "print (\"Rho: {}\\nPvalue: {}\".format(pearsonr(data[\"tiempo_sol\"], data[\"tiempo_nublado\"])[0],\n",
    "                                    pearsonr(data[\"tiempo_sol\"], data[\"tiempo_nublado\"])[1]))"
   ]
  }
 ],
 "metadata": {
  "kernelspec": {
   "display_name": "Python 3",
   "language": "python",
   "name": "python3"
  },
  "language_info": {
   "codemirror_mode": {
    "name": "ipython",
    "version": 3
   },
   "file_extension": ".py",
   "mimetype": "text/x-python",
   "name": "python",
   "nbconvert_exporter": "python",
   "pygments_lexer": "ipython3",
   "version": "3.5.2"
  }
 },
 "nbformat": 4,
 "nbformat_minor": 2
}
